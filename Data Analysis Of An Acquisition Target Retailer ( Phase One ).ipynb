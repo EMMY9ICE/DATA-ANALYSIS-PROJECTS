{
 "cells": [
  {
   "cell_type": "markdown",
   "id": "c7a08efa",
   "metadata": {},
   "source": [
    "# ANALYSIS OF THE BUSINESS DATA OF AN ACQUISITION TARGET RETAILER ( PHASE ONE)"
   ]
  },
  {
   "cell_type": "code",
   "execution_count": null,
   "id": "d44a8a1a",
   "metadata": {},
   "outputs": [],
   "source": []
  },
  {
   "cell_type": "markdown",
   "id": "bab7a522",
   "metadata": {},
   "source": [
    "## INTRODUCTION"
   ]
  },
  {
   "cell_type": "markdown",
   "id": "848b258b",
   "metadata": {},
   "source": [
    "A mega store planning to acquire another retailer in order to expand its market shares needs the skills of a data analyst to \n",
    "analyze the business data of the target retailer in order to know whether it will be a good acquisiton.\n",
    "\n",
    "As expected, they sent over a few data sets of the target retailer relating to their customers and sales.\n",
    "These datasets will be useful in this phase of analysis to give insights on the business stratagy of the retailer and \n",
    "which will help in deciding if the acquisition will be considered or not.\n",
    "\n",
    "The results of this phase determines whether or not to take a look at more data sets of the retailer in a phase two project, to further strengthen our decision on acquiring the retail in question."
   ]
  },
  {
   "cell_type": "markdown",
   "id": "89840b39",
   "metadata": {},
   "source": [
    "The key Objectives of this project is to:\n",
    "\n",
    "1. Read in Data from multiple csv files\n",
    "2. Explore data containing millions of rows\n",
    "3. Create new columns to aid in analysis\n",
    "4. Filter, sort, and aggregate the data to pinpoint and summarize the important information\n",
    "5. Build plots to communicate key insights\n",
    "6. Give my thoughts where I deem fit and give my recommendation at the end"
   ]
  },
  {
   "cell_type": "code",
   "execution_count": null,
   "id": "edb3e7a3",
   "metadata": {},
   "outputs": [],
   "source": []
  },
  {
   "cell_type": "code",
   "execution_count": null,
   "id": "ee433609",
   "metadata": {},
   "outputs": [],
   "source": []
  },
  {
   "cell_type": "markdown",
   "id": "02e2455d",
   "metadata": {},
   "source": [
    "#### IMPORTING LIBRARIES"
   ]
  },
  {
   "cell_type": "code",
   "execution_count": 1,
   "id": "fadd43e1",
   "metadata": {},
   "outputs": [],
   "source": [
    "# Import the Numpy and Pandas libraries for this project\n",
    "\n",
    "import pandas as pd\n",
    "import numpy as np"
   ]
  },
  {
   "cell_type": "code",
   "execution_count": null,
   "id": "f7b4ed71",
   "metadata": {},
   "outputs": [],
   "source": []
  },
  {
   "cell_type": "code",
   "execution_count": null,
   "id": "c9a18c9e",
   "metadata": {},
   "outputs": [],
   "source": []
  },
  {
   "cell_type": "code",
   "execution_count": null,
   "id": "c5068811",
   "metadata": {},
   "outputs": [],
   "source": []
  },
  {
   "cell_type": "markdown",
   "id": "a8ce9052",
   "metadata": {},
   "source": [
    "### DATA EXPLORATION"
   ]
  },
  {
   "cell_type": "markdown",
   "id": "0e5c7d02",
   "metadata": {},
   "source": [
    "In this section, I want to:\n",
    "\n",
    "1. Read in the data sets and explore it.\n",
    "\n",
    "2. Take a look at the raw data, the datatypes, and cast columns to appropiate data types to optimize memory usage.\n",
    "\n",
    "3. Check for missing data\n",
    "\n",
    "4. Check the number of unique households and products in the data, as this gives us a clue of our customer size and product range"
   ]
  },
  {
   "cell_type": "code",
   "execution_count": null,
   "id": "ea6b13e2",
   "metadata": {},
   "outputs": [],
   "source": []
  },
  {
   "cell_type": "code",
   "execution_count": 2,
   "id": "b6695a75",
   "metadata": {},
   "outputs": [
    {
     "data": {
      "text/html": [
       "<div>\n",
       "<style scoped>\n",
       "    .dataframe tbody tr th:only-of-type {\n",
       "        vertical-align: middle;\n",
       "    }\n",
       "\n",
       "    .dataframe tbody tr th {\n",
       "        vertical-align: top;\n",
       "    }\n",
       "\n",
       "    .dataframe thead th {\n",
       "        text-align: right;\n",
       "    }\n",
       "</style>\n",
       "<table border=\"1\" class=\"dataframe\">\n",
       "  <thead>\n",
       "    <tr style=\"text-align: right;\">\n",
       "      <th></th>\n",
       "      <th>household_key</th>\n",
       "      <th>BASKET_ID</th>\n",
       "      <th>DAY</th>\n",
       "      <th>PRODUCT_ID</th>\n",
       "      <th>QUANTITY</th>\n",
       "      <th>SALES_VALUE</th>\n",
       "      <th>STORE_ID</th>\n",
       "      <th>RETAIL_DISC</th>\n",
       "      <th>WEEK_NO</th>\n",
       "      <th>COUPON_DISC</th>\n",
       "      <th>COUPON_MATCH_DISC</th>\n",
       "    </tr>\n",
       "  </thead>\n",
       "  <tbody>\n",
       "    <tr>\n",
       "      <th>0</th>\n",
       "      <td>1364</td>\n",
       "      <td>26984896261</td>\n",
       "      <td>1</td>\n",
       "      <td>842930</td>\n",
       "      <td>1</td>\n",
       "      <td>2.19</td>\n",
       "      <td>31742</td>\n",
       "      <td>0.00</td>\n",
       "      <td>1</td>\n",
       "      <td>0.0</td>\n",
       "      <td>0.0</td>\n",
       "    </tr>\n",
       "    <tr>\n",
       "      <th>1</th>\n",
       "      <td>1364</td>\n",
       "      <td>26984896261</td>\n",
       "      <td>1</td>\n",
       "      <td>897044</td>\n",
       "      <td>1</td>\n",
       "      <td>2.99</td>\n",
       "      <td>31742</td>\n",
       "      <td>-0.40</td>\n",
       "      <td>1</td>\n",
       "      <td>0.0</td>\n",
       "      <td>0.0</td>\n",
       "    </tr>\n",
       "    <tr>\n",
       "      <th>2</th>\n",
       "      <td>1364</td>\n",
       "      <td>26984896261</td>\n",
       "      <td>1</td>\n",
       "      <td>920955</td>\n",
       "      <td>1</td>\n",
       "      <td>3.09</td>\n",
       "      <td>31742</td>\n",
       "      <td>0.00</td>\n",
       "      <td>1</td>\n",
       "      <td>0.0</td>\n",
       "      <td>0.0</td>\n",
       "    </tr>\n",
       "    <tr>\n",
       "      <th>3</th>\n",
       "      <td>1364</td>\n",
       "      <td>26984896261</td>\n",
       "      <td>1</td>\n",
       "      <td>937406</td>\n",
       "      <td>1</td>\n",
       "      <td>2.50</td>\n",
       "      <td>31742</td>\n",
       "      <td>-0.99</td>\n",
       "      <td>1</td>\n",
       "      <td>0.0</td>\n",
       "      <td>0.0</td>\n",
       "    </tr>\n",
       "    <tr>\n",
       "      <th>4</th>\n",
       "      <td>1364</td>\n",
       "      <td>26984896261</td>\n",
       "      <td>1</td>\n",
       "      <td>981760</td>\n",
       "      <td>1</td>\n",
       "      <td>0.60</td>\n",
       "      <td>31742</td>\n",
       "      <td>-0.79</td>\n",
       "      <td>1</td>\n",
       "      <td>0.0</td>\n",
       "      <td>0.0</td>\n",
       "    </tr>\n",
       "  </tbody>\n",
       "</table>\n",
       "</div>"
      ],
      "text/plain": [
       "   household_key    BASKET_ID  DAY  PRODUCT_ID  QUANTITY  SALES_VALUE  \\\n",
       "0           1364  26984896261    1      842930         1         2.19   \n",
       "1           1364  26984896261    1      897044         1         2.99   \n",
       "2           1364  26984896261    1      920955         1         3.09   \n",
       "3           1364  26984896261    1      937406         1         2.50   \n",
       "4           1364  26984896261    1      981760         1         0.60   \n",
       "\n",
       "   STORE_ID  RETAIL_DISC  WEEK_NO  COUPON_DISC  COUPON_MATCH_DISC  \n",
       "0     31742         0.00        1          0.0                0.0  \n",
       "1     31742        -0.40        1          0.0                0.0  \n",
       "2     31742         0.00        1          0.0                0.0  \n",
       "3     31742        -0.99        1          0.0                0.0  \n",
       "4     31742        -0.79        1          0.0                0.0  "
      ]
     },
     "execution_count": 2,
     "metadata": {},
     "output_type": "execute_result"
    }
   ],
   "source": [
    "# Read in the transactions data and explore\n",
    "\n",
    "transactions = pd.read_csv(\n",
    "    \"C:\\\\ORIGINAL PFDA RESOURCES\\\\Pandas+Course+Resources\\Pandas Course Resources\\\\project_data\\\\project_transactions.csv\"\n",
    ")\n",
    "\n",
    "transactions.head()"
   ]
  },
  {
   "cell_type": "code",
   "execution_count": null,
   "id": "af0f1c1c",
   "metadata": {},
   "outputs": [],
   "source": []
  },
  {
   "cell_type": "code",
   "execution_count": 3,
   "id": "c42c9e63",
   "metadata": {},
   "outputs": [
    {
     "name": "stdout",
     "output_type": "stream",
     "text": [
      "<class 'pandas.core.frame.DataFrame'>\n",
      "RangeIndex: 2146311 entries, 0 to 2146310\n",
      "Data columns (total 11 columns):\n",
      " #   Column             Dtype  \n",
      "---  ------             -----  \n",
      " 0   household_key      int64  \n",
      " 1   BASKET_ID          int64  \n",
      " 2   DAY                int64  \n",
      " 3   PRODUCT_ID         int64  \n",
      " 4   QUANTITY           int64  \n",
      " 5   SALES_VALUE        float64\n",
      " 6   STORE_ID           int64  \n",
      " 7   RETAIL_DISC        float64\n",
      " 8   WEEK_NO            int64  \n",
      " 9   COUPON_DISC        float64\n",
      " 10  COUPON_MATCH_DISC  float64\n",
      "dtypes: float64(4), int64(7)\n",
      "memory usage: 180.1 MB\n"
     ]
    }
   ],
   "source": [
    "# Take a quick glance about the transactions table, including the memory usage.\n",
    "\n",
    "transactions.info(memory_usage=\"deep\")"
   ]
  },
  {
   "cell_type": "code",
   "execution_count": null,
   "id": "774f737d",
   "metadata": {},
   "outputs": [],
   "source": []
  },
  {
   "cell_type": "code",
   "execution_count": 4,
   "id": "2bc7856e",
   "metadata": {},
   "outputs": [
    {
     "data": {
      "text/html": [
       "<div>\n",
       "<style scoped>\n",
       "    .dataframe tbody tr th:only-of-type {\n",
       "        vertical-align: middle;\n",
       "    }\n",
       "\n",
       "    .dataframe tbody tr th {\n",
       "        vertical-align: top;\n",
       "    }\n",
       "\n",
       "    .dataframe thead th {\n",
       "        text-align: right;\n",
       "    }\n",
       "</style>\n",
       "<table border=\"1\" class=\"dataframe\">\n",
       "  <thead>\n",
       "    <tr style=\"text-align: right;\">\n",
       "      <th></th>\n",
       "      <th>household_key</th>\n",
       "      <th>BASKET_ID</th>\n",
       "      <th>DAY</th>\n",
       "      <th>PRODUCT_ID</th>\n",
       "      <th>QUANTITY</th>\n",
       "      <th>SALES_VALUE</th>\n",
       "      <th>STORE_ID</th>\n",
       "      <th>RETAIL_DISC</th>\n",
       "      <th>WEEK_NO</th>\n",
       "      <th>COUPON_DISC</th>\n",
       "      <th>COUPON_MATCH_DISC</th>\n",
       "    </tr>\n",
       "  </thead>\n",
       "  <tbody>\n",
       "    <tr>\n",
       "      <th>count</th>\n",
       "      <td>2146311.00</td>\n",
       "      <td>2.146311e+06</td>\n",
       "      <td>2146311.00</td>\n",
       "      <td>2146311.00</td>\n",
       "      <td>2146311.00</td>\n",
       "      <td>2146311.00</td>\n",
       "      <td>2146311.00</td>\n",
       "      <td>2146311.00</td>\n",
       "      <td>2146311.00</td>\n",
       "      <td>2146311.00</td>\n",
       "      <td>2146311.00</td>\n",
       "    </tr>\n",
       "    <tr>\n",
       "      <th>mean</th>\n",
       "      <td>1056.23</td>\n",
       "      <td>3.404897e+10</td>\n",
       "      <td>389.51</td>\n",
       "      <td>2884714.94</td>\n",
       "      <td>100.97</td>\n",
       "      <td>3.11</td>\n",
       "      <td>3267.94</td>\n",
       "      <td>-0.53</td>\n",
       "      <td>56.33</td>\n",
       "      <td>-0.02</td>\n",
       "      <td>-0.00</td>\n",
       "    </tr>\n",
       "    <tr>\n",
       "      <th>std</th>\n",
       "      <td>605.01</td>\n",
       "      <td>4.723748e+09</td>\n",
       "      <td>190.05</td>\n",
       "      <td>3831949.29</td>\n",
       "      <td>1152.36</td>\n",
       "      <td>4.19</td>\n",
       "      <td>9122.39</td>\n",
       "      <td>1.23</td>\n",
       "      <td>27.15</td>\n",
       "      <td>0.21</td>\n",
       "      <td>0.04</td>\n",
       "    </tr>\n",
       "    <tr>\n",
       "      <th>min</th>\n",
       "      <td>1.00</td>\n",
       "      <td>2.698490e+10</td>\n",
       "      <td>1.00</td>\n",
       "      <td>25671.00</td>\n",
       "      <td>0.00</td>\n",
       "      <td>0.00</td>\n",
       "      <td>1.00</td>\n",
       "      <td>-130.02</td>\n",
       "      <td>1.00</td>\n",
       "      <td>-55.93</td>\n",
       "      <td>-7.70</td>\n",
       "    </tr>\n",
       "    <tr>\n",
       "      <th>25%</th>\n",
       "      <td>548.00</td>\n",
       "      <td>3.040798e+10</td>\n",
       "      <td>229.00</td>\n",
       "      <td>917231.00</td>\n",
       "      <td>1.00</td>\n",
       "      <td>1.29</td>\n",
       "      <td>330.00</td>\n",
       "      <td>-0.68</td>\n",
       "      <td>33.00</td>\n",
       "      <td>0.00</td>\n",
       "      <td>0.00</td>\n",
       "    </tr>\n",
       "    <tr>\n",
       "      <th>50%</th>\n",
       "      <td>1042.00</td>\n",
       "      <td>3.281176e+10</td>\n",
       "      <td>392.00</td>\n",
       "      <td>1027960.00</td>\n",
       "      <td>1.00</td>\n",
       "      <td>2.00</td>\n",
       "      <td>372.00</td>\n",
       "      <td>0.00</td>\n",
       "      <td>57.00</td>\n",
       "      <td>0.00</td>\n",
       "      <td>0.00</td>\n",
       "    </tr>\n",
       "    <tr>\n",
       "      <th>75%</th>\n",
       "      <td>1581.00</td>\n",
       "      <td>4.012804e+10</td>\n",
       "      <td>555.00</td>\n",
       "      <td>1132771.00</td>\n",
       "      <td>1.00</td>\n",
       "      <td>3.49</td>\n",
       "      <td>422.00</td>\n",
       "      <td>0.00</td>\n",
       "      <td>80.00</td>\n",
       "      <td>0.00</td>\n",
       "      <td>0.00</td>\n",
       "    </tr>\n",
       "    <tr>\n",
       "      <th>max</th>\n",
       "      <td>2099.00</td>\n",
       "      <td>4.230536e+10</td>\n",
       "      <td>711.00</td>\n",
       "      <td>18316298.00</td>\n",
       "      <td>89638.00</td>\n",
       "      <td>840.00</td>\n",
       "      <td>34280.00</td>\n",
       "      <td>3.99</td>\n",
       "      <td>102.00</td>\n",
       "      <td>0.00</td>\n",
       "      <td>0.00</td>\n",
       "    </tr>\n",
       "  </tbody>\n",
       "</table>\n",
       "</div>"
      ],
      "text/plain": [
       "       household_key     BASKET_ID         DAY   PRODUCT_ID    QUANTITY  \\\n",
       "count     2146311.00  2.146311e+06  2146311.00   2146311.00  2146311.00   \n",
       "mean         1056.23  3.404897e+10      389.51   2884714.94      100.97   \n",
       "std           605.01  4.723748e+09      190.05   3831949.29     1152.36   \n",
       "min             1.00  2.698490e+10        1.00     25671.00        0.00   \n",
       "25%           548.00  3.040798e+10      229.00    917231.00        1.00   \n",
       "50%          1042.00  3.281176e+10      392.00   1027960.00        1.00   \n",
       "75%          1581.00  4.012804e+10      555.00   1132771.00        1.00   \n",
       "max          2099.00  4.230536e+10      711.00  18316298.00    89638.00   \n",
       "\n",
       "       SALES_VALUE    STORE_ID  RETAIL_DISC     WEEK_NO  COUPON_DISC  \\\n",
       "count   2146311.00  2146311.00   2146311.00  2146311.00   2146311.00   \n",
       "mean          3.11     3267.94        -0.53       56.33        -0.02   \n",
       "std           4.19     9122.39         1.23       27.15         0.21   \n",
       "min           0.00        1.00      -130.02        1.00       -55.93   \n",
       "25%           1.29      330.00        -0.68       33.00         0.00   \n",
       "50%           2.00      372.00         0.00       57.00         0.00   \n",
       "75%           3.49      422.00         0.00       80.00         0.00   \n",
       "max         840.00    34280.00         3.99      102.00         0.00   \n",
       "\n",
       "       COUPON_MATCH_DISC  \n",
       "count         2146311.00  \n",
       "mean               -0.00  \n",
       "std                 0.04  \n",
       "min                -7.70  \n",
       "25%                 0.00  \n",
       "50%                 0.00  \n",
       "75%                 0.00  \n",
       "max                 0.00  "
      ]
     },
     "execution_count": 4,
     "metadata": {},
     "output_type": "execute_result"
    }
   ],
   "source": [
    "# Do a quick aggragtion to understand the numerical data, this will aid in downcasting our data types\n",
    "\n",
    "transactions.describe().round(2)"
   ]
  },
  {
   "cell_type": "code",
   "execution_count": null,
   "id": "dcad4c96",
   "metadata": {},
   "outputs": [],
   "source": []
  },
  {
   "cell_type": "code",
   "execution_count": 5,
   "id": "b158d9f5",
   "metadata": {},
   "outputs": [],
   "source": [
    "# Downcast the columns into the appropriate data types where necessary\n",
    "\n",
    "transactions = transactions.astype(\n",
    "    {\n",
    "        \"DAY\": \"int16\",\n",
    "        \"QUANTITY\": \"int32\",\n",
    "        \"STORE_ID\": \"int32\",\n",
    "        \"WEEK_NO\": \"int8\"\n",
    "    }\n",
    ")  \n",
    "\n",
    "# NOTE: SOME NUMERICAL DATA SETS REQUIRE US TO CHECK BOTH MAX AND MIN VALUES WHEN CASTING, SO AS TO KNOW THE RANGE"
   ]
  },
  {
   "cell_type": "code",
   "execution_count": null,
   "id": "8e951dfe",
   "metadata": {},
   "outputs": [],
   "source": []
  },
  {
   "cell_type": "code",
   "execution_count": 6,
   "id": "945f612f",
   "metadata": {},
   "outputs": [
    {
     "name": "stdout",
     "output_type": "stream",
     "text": [
      "<class 'pandas.core.frame.DataFrame'>\n",
      "RangeIndex: 2146311 entries, 0 to 2146310\n",
      "Data columns (total 11 columns):\n",
      " #   Column             Dtype  \n",
      "---  ------             -----  \n",
      " 0   household_key      int64  \n",
      " 1   BASKET_ID          int64  \n",
      " 2   DAY                int16  \n",
      " 3   PRODUCT_ID         int64  \n",
      " 4   QUANTITY           int32  \n",
      " 5   SALES_VALUE        float64\n",
      " 6   STORE_ID           int32  \n",
      " 7   RETAIL_DISC        float64\n",
      " 8   WEEK_NO            int8   \n",
      " 9   COUPON_DISC        float64\n",
      " 10  COUPON_MATCH_DISC  float64\n",
      "dtypes: float64(4), int16(1), int32(2), int64(3), int8(1)\n",
      "memory usage: 137.1 MB\n"
     ]
    }
   ],
   "source": [
    "# Check the info again\n",
    "\n",
    "transactions.info(memory_usage=\"deep\")\n",
    "\n",
    "# The size of the dataframe was redueced by over 40MB"
   ]
  },
  {
   "cell_type": "code",
   "execution_count": null,
   "id": "65d9a610",
   "metadata": {},
   "outputs": [],
   "source": []
  },
  {
   "cell_type": "code",
   "execution_count": 7,
   "id": "cc4430f6",
   "metadata": {},
   "outputs": [
    {
     "data": {
      "text/plain": [
       "household_key        0\n",
       "BASKET_ID            0\n",
       "DAY                  0\n",
       "PRODUCT_ID           0\n",
       "QUANTITY             0\n",
       "SALES_VALUE          0\n",
       "STORE_ID             0\n",
       "RETAIL_DISC          0\n",
       "WEEK_NO              0\n",
       "COUPON_DISC          0\n",
       "COUPON_MATCH_DISC    0\n",
       "dtype: int64"
      ]
     },
     "execution_count": 7,
     "metadata": {},
     "output_type": "execute_result"
    }
   ],
   "source": [
    "# Check for missing values\n",
    "\n",
    "transactions.isna().sum()\n",
    "\n",
    "# There are no missing value in the transactions datafame"
   ]
  },
  {
   "cell_type": "code",
   "execution_count": null,
   "id": "d0292252",
   "metadata": {},
   "outputs": [],
   "source": []
  },
  {
   "cell_type": "code",
   "execution_count": 8,
   "id": "d3ff3a52",
   "metadata": {},
   "outputs": [
    {
     "data": {
      "text/plain": [
       "2099"
      ]
     },
     "execution_count": 8,
     "metadata": {},
     "output_type": "execute_result"
    }
   ],
   "source": [
    "# How many unique hosueholds are in our data?\n",
    "\n",
    "transactions.loc[:, \"household_key\"].nunique()"
   ]
  },
  {
   "cell_type": "code",
   "execution_count": null,
   "id": "4d93815c",
   "metadata": {},
   "outputs": [],
   "source": []
  },
  {
   "cell_type": "code",
   "execution_count": 9,
   "id": "ef383887",
   "metadata": {},
   "outputs": [
    {
     "data": {
      "text/plain": [
       "84138"
      ]
     },
     "execution_count": 9,
     "metadata": {},
     "output_type": "execute_result"
    }
   ],
   "source": [
    "# Check the number of unique products in the store\n",
    "\n",
    "transactions.loc[:, \"PRODUCT_ID\"].nunique()"
   ]
  },
  {
   "cell_type": "code",
   "execution_count": null,
   "id": "200bc258",
   "metadata": {},
   "outputs": [],
   "source": []
  },
  {
   "cell_type": "code",
   "execution_count": null,
   "id": "81b62b2a",
   "metadata": {},
   "outputs": [],
   "source": []
  },
  {
   "cell_type": "code",
   "execution_count": null,
   "id": "f5665fde",
   "metadata": {},
   "outputs": [],
   "source": []
  },
  {
   "cell_type": "markdown",
   "id": "8b22b6bb",
   "metadata": {},
   "source": [
    "## COLUMN CREATION"
   ]
  },
  {
   "cell_type": "markdown",
   "id": "f7d9bac3",
   "metadata": {},
   "source": [
    "In this section, I will create new columns that will aid in our analysis to understand the business better.\n",
    "\n",
    "I will do the following:\n",
    "\n",
    "1. Create a column that captures the total_discount by row.\n",
    "\n",
    "2. Create a column of percentage disount (positive).\n",
    "\n",
    "3. If the percentage discount is greater than 1, set it equal to 1. If it is less than 0, set it to 0 (as instructed by the mega store)\n",
    "\n",
    "4. Drop the individual discount columns (RETAIL_DISC, COUPON_DISC, COUPON_MATCH_DISC).\n",
    "\n",
    "5. Overwrite the existing transaction DataFrame after making the modifications above."
   ]
  },
  {
   "cell_type": "code",
   "execution_count": null,
   "id": "0278a3d0",
   "metadata": {},
   "outputs": [],
   "source": []
  },
  {
   "cell_type": "code",
   "execution_count": 10,
   "id": "e85a09c4",
   "metadata": {},
   "outputs": [
    {
     "data": {
      "text/html": [
       "<div>\n",
       "<style scoped>\n",
       "    .dataframe tbody tr th:only-of-type {\n",
       "        vertical-align: middle;\n",
       "    }\n",
       "\n",
       "    .dataframe tbody tr th {\n",
       "        vertical-align: top;\n",
       "    }\n",
       "\n",
       "    .dataframe thead th {\n",
       "        text-align: right;\n",
       "    }\n",
       "</style>\n",
       "<table border=\"1\" class=\"dataframe\">\n",
       "  <thead>\n",
       "    <tr style=\"text-align: right;\">\n",
       "      <th></th>\n",
       "      <th>household_key</th>\n",
       "      <th>BASKET_ID</th>\n",
       "      <th>DAY</th>\n",
       "      <th>PRODUCT_ID</th>\n",
       "      <th>QUANTITY</th>\n",
       "      <th>SALES_VALUE</th>\n",
       "      <th>STORE_ID</th>\n",
       "      <th>RETAIL_DISC</th>\n",
       "      <th>WEEK_NO</th>\n",
       "      <th>COUPON_DISC</th>\n",
       "      <th>COUPON_MATCH_DISC</th>\n",
       "      <th>total_discount</th>\n",
       "      <th>pct_discount</th>\n",
       "    </tr>\n",
       "  </thead>\n",
       "  <tbody>\n",
       "    <tr>\n",
       "      <th>0</th>\n",
       "      <td>1364</td>\n",
       "      <td>26984896261</td>\n",
       "      <td>1</td>\n",
       "      <td>842930</td>\n",
       "      <td>1</td>\n",
       "      <td>2.19</td>\n",
       "      <td>31742</td>\n",
       "      <td>0.00</td>\n",
       "      <td>1</td>\n",
       "      <td>0.0</td>\n",
       "      <td>0.0</td>\n",
       "      <td>0.00</td>\n",
       "      <td>0.000000</td>\n",
       "    </tr>\n",
       "    <tr>\n",
       "      <th>1</th>\n",
       "      <td>1364</td>\n",
       "      <td>26984896261</td>\n",
       "      <td>1</td>\n",
       "      <td>897044</td>\n",
       "      <td>1</td>\n",
       "      <td>2.99</td>\n",
       "      <td>31742</td>\n",
       "      <td>-0.40</td>\n",
       "      <td>1</td>\n",
       "      <td>0.0</td>\n",
       "      <td>0.0</td>\n",
       "      <td>-0.40</td>\n",
       "      <td>0.133779</td>\n",
       "    </tr>\n",
       "    <tr>\n",
       "      <th>2</th>\n",
       "      <td>1364</td>\n",
       "      <td>26984896261</td>\n",
       "      <td>1</td>\n",
       "      <td>920955</td>\n",
       "      <td>1</td>\n",
       "      <td>3.09</td>\n",
       "      <td>31742</td>\n",
       "      <td>0.00</td>\n",
       "      <td>1</td>\n",
       "      <td>0.0</td>\n",
       "      <td>0.0</td>\n",
       "      <td>0.00</td>\n",
       "      <td>0.000000</td>\n",
       "    </tr>\n",
       "    <tr>\n",
       "      <th>3</th>\n",
       "      <td>1364</td>\n",
       "      <td>26984896261</td>\n",
       "      <td>1</td>\n",
       "      <td>937406</td>\n",
       "      <td>1</td>\n",
       "      <td>2.50</td>\n",
       "      <td>31742</td>\n",
       "      <td>-0.99</td>\n",
       "      <td>1</td>\n",
       "      <td>0.0</td>\n",
       "      <td>0.0</td>\n",
       "      <td>-0.99</td>\n",
       "      <td>0.396000</td>\n",
       "    </tr>\n",
       "    <tr>\n",
       "      <th>4</th>\n",
       "      <td>1364</td>\n",
       "      <td>26984896261</td>\n",
       "      <td>1</td>\n",
       "      <td>981760</td>\n",
       "      <td>1</td>\n",
       "      <td>0.60</td>\n",
       "      <td>31742</td>\n",
       "      <td>-0.79</td>\n",
       "      <td>1</td>\n",
       "      <td>0.0</td>\n",
       "      <td>0.0</td>\n",
       "      <td>-0.79</td>\n",
       "      <td>1.316667</td>\n",
       "    </tr>\n",
       "  </tbody>\n",
       "</table>\n",
       "</div>"
      ],
      "text/plain": [
       "   household_key    BASKET_ID  DAY  PRODUCT_ID  QUANTITY  SALES_VALUE  \\\n",
       "0           1364  26984896261    1      842930         1         2.19   \n",
       "1           1364  26984896261    1      897044         1         2.99   \n",
       "2           1364  26984896261    1      920955         1         3.09   \n",
       "3           1364  26984896261    1      937406         1         2.50   \n",
       "4           1364  26984896261    1      981760         1         0.60   \n",
       "\n",
       "   STORE_ID  RETAIL_DISC  WEEK_NO  COUPON_DISC  COUPON_MATCH_DISC  \\\n",
       "0     31742         0.00        1          0.0                0.0   \n",
       "1     31742        -0.40        1          0.0                0.0   \n",
       "2     31742         0.00        1          0.0                0.0   \n",
       "3     31742        -0.99        1          0.0                0.0   \n",
       "4     31742        -0.79        1          0.0                0.0   \n",
       "\n",
       "   total_discount  pct_discount  \n",
       "0            0.00      0.000000  \n",
       "1           -0.40      0.133779  \n",
       "2            0.00      0.000000  \n",
       "3           -0.99      0.396000  \n",
       "4           -0.79      1.316667  "
      ]
     },
     "execution_count": 10,
     "metadata": {},
     "output_type": "execute_result"
    }
   ],
   "source": [
    "# create a discount sum column and a positive percentage discount column\n",
    "\n",
    "transactions[\"total_discount\"] = (transactions.loc[:, \"RETAIL_DISC\"]) + (transactions.loc[:, \"COUPON_DISC\"])\n",
    "\n",
    "transactions[\"pct_discount\"] = ((transactions[\"total_discount\"]) / (transactions[\"SALES_VALUE\"])).abs()\n",
    "\n",
    "transactions.head()"
   ]
  },
  {
   "cell_type": "code",
   "execution_count": null,
   "id": "1a60ae80",
   "metadata": {},
   "outputs": [],
   "source": []
  },
  {
   "cell_type": "code",
   "execution_count": 11,
   "id": "61e0d637",
   "metadata": {},
   "outputs": [],
   "source": [
    "# Use the appropriate function or method to set values of percentage disount as instructed \n",
    "\n",
    "transactions = (transactions.where(~(transactions[\"pct_discount\"] > 1), 1)\n",
    " .where(~(transactions[\"pct_discount\"] < 0), 0)\n",
    ")"
   ]
  },
  {
   "cell_type": "code",
   "execution_count": null,
   "id": "bb006f30",
   "metadata": {},
   "outputs": [],
   "source": []
  },
  {
   "cell_type": "code",
   "execution_count": 13,
   "id": "8cb99bd0",
   "metadata": {},
   "outputs": [
    {
     "data": {
      "text/html": [
       "<div>\n",
       "<style scoped>\n",
       "    .dataframe tbody tr th:only-of-type {\n",
       "        vertical-align: middle;\n",
       "    }\n",
       "\n",
       "    .dataframe tbody tr th {\n",
       "        vertical-align: top;\n",
       "    }\n",
       "\n",
       "    .dataframe thead th {\n",
       "        text-align: right;\n",
       "    }\n",
       "</style>\n",
       "<table border=\"1\" class=\"dataframe\">\n",
       "  <thead>\n",
       "    <tr style=\"text-align: right;\">\n",
       "      <th></th>\n",
       "      <th>household_key</th>\n",
       "      <th>BASKET_ID</th>\n",
       "      <th>DAY</th>\n",
       "      <th>PRODUCT_ID</th>\n",
       "      <th>QUANTITY</th>\n",
       "      <th>SALES_VALUE</th>\n",
       "      <th>STORE_ID</th>\n",
       "      <th>WEEK_NO</th>\n",
       "      <th>total_discount</th>\n",
       "      <th>pct_discount</th>\n",
       "    </tr>\n",
       "  </thead>\n",
       "  <tbody>\n",
       "    <tr>\n",
       "      <th>0</th>\n",
       "      <td>1364</td>\n",
       "      <td>26984896261</td>\n",
       "      <td>1</td>\n",
       "      <td>842930</td>\n",
       "      <td>1</td>\n",
       "      <td>2.19</td>\n",
       "      <td>31742</td>\n",
       "      <td>1</td>\n",
       "      <td>0.00</td>\n",
       "      <td>0.000000</td>\n",
       "    </tr>\n",
       "    <tr>\n",
       "      <th>1</th>\n",
       "      <td>1364</td>\n",
       "      <td>26984896261</td>\n",
       "      <td>1</td>\n",
       "      <td>897044</td>\n",
       "      <td>1</td>\n",
       "      <td>2.99</td>\n",
       "      <td>31742</td>\n",
       "      <td>1</td>\n",
       "      <td>-0.40</td>\n",
       "      <td>0.133779</td>\n",
       "    </tr>\n",
       "    <tr>\n",
       "      <th>2</th>\n",
       "      <td>1364</td>\n",
       "      <td>26984896261</td>\n",
       "      <td>1</td>\n",
       "      <td>920955</td>\n",
       "      <td>1</td>\n",
       "      <td>3.09</td>\n",
       "      <td>31742</td>\n",
       "      <td>1</td>\n",
       "      <td>0.00</td>\n",
       "      <td>0.000000</td>\n",
       "    </tr>\n",
       "    <tr>\n",
       "      <th>3</th>\n",
       "      <td>1364</td>\n",
       "      <td>26984896261</td>\n",
       "      <td>1</td>\n",
       "      <td>937406</td>\n",
       "      <td>1</td>\n",
       "      <td>2.50</td>\n",
       "      <td>31742</td>\n",
       "      <td>1</td>\n",
       "      <td>-0.99</td>\n",
       "      <td>0.396000</td>\n",
       "    </tr>\n",
       "    <tr>\n",
       "      <th>4</th>\n",
       "      <td>1</td>\n",
       "      <td>1</td>\n",
       "      <td>1</td>\n",
       "      <td>1</td>\n",
       "      <td>1</td>\n",
       "      <td>1.00</td>\n",
       "      <td>1</td>\n",
       "      <td>1</td>\n",
       "      <td>1.00</td>\n",
       "      <td>1.000000</td>\n",
       "    </tr>\n",
       "  </tbody>\n",
       "</table>\n",
       "</div>"
      ],
      "text/plain": [
       "   household_key    BASKET_ID  DAY  PRODUCT_ID  QUANTITY  SALES_VALUE  \\\n",
       "0           1364  26984896261    1      842930         1         2.19   \n",
       "1           1364  26984896261    1      897044         1         2.99   \n",
       "2           1364  26984896261    1      920955         1         3.09   \n",
       "3           1364  26984896261    1      937406         1         2.50   \n",
       "4              1            1    1           1         1         1.00   \n",
       "\n",
       "   STORE_ID  WEEK_NO  total_discount  pct_discount  \n",
       "0     31742        1            0.00      0.000000  \n",
       "1     31742        1           -0.40      0.133779  \n",
       "2     31742        1            0.00      0.000000  \n",
       "3     31742        1           -0.99      0.396000  \n",
       "4         1        1            1.00      1.000000  "
      ]
     },
     "execution_count": 13,
     "metadata": {},
     "output_type": "execute_result"
    }
   ],
   "source": [
    "# Drop the specified columns\n",
    "\n",
    "transactions = transactions.drop([\"COUPON_DISC\", \"RETAIL_DISC\", \"COUPON_MATCH_DISC\"], axis=1)\n",
    "\n",
    "transactions.head()"
   ]
  },
  {
   "cell_type": "code",
   "execution_count": null,
   "id": "24fa54f1",
   "metadata": {},
   "outputs": [],
   "source": []
  },
  {
   "cell_type": "code",
   "execution_count": null,
   "id": "d09e88b2",
   "metadata": {},
   "outputs": [],
   "source": []
  },
  {
   "cell_type": "code",
   "execution_count": null,
   "id": "1ff89285",
   "metadata": {},
   "outputs": [],
   "source": []
  },
  {
   "cell_type": "markdown",
   "id": "e65f5c49",
   "metadata": {},
   "source": [
    "## STATISTICAL ANALYSIS"
   ]
  },
  {
   "cell_type": "markdown",
   "id": "9451680a",
   "metadata": {},
   "source": [
    "This section invloves the overall statistics of the target retailer, these statistics will help to determine the way the business is ran and to throw more light on whether my client should acquire it.\n",
    "\n",
    "statistical analysis will be carried out to calculate some key figures like:\n",
    "\n",
    "1. The total sales.\n",
    "2. Total discount.\n",
    "3. Overall percentage discount.\n",
    "4. Total quantity sold.\n",
    "5. Max quantity sold in a single row and determine whether this row have a high discount percentage.\n",
    "6. Total sales value per basket.\n",
    "7. Total sales value per household."
   ]
  },
  {
   "cell_type": "code",
   "execution_count": null,
   "id": "e724c6bc",
   "metadata": {},
   "outputs": [],
   "source": []
  },
  {
   "cell_type": "code",
   "execution_count": 15,
   "id": "0a5e4b3e",
   "metadata": {},
   "outputs": [
    {
     "data": {
      "text/plain": [
       "6598169.030000003"
      ]
     },
     "execution_count": 15,
     "metadata": {},
     "output_type": "execute_result"
    }
   ],
   "source": [
    "# Calculate the total sales\n",
    "\n",
    "transactions.loc[:, \"SALES_VALUE\"].sum()"
   ]
  },
  {
   "cell_type": "code",
   "execution_count": null,
   "id": "8064a6a6",
   "metadata": {},
   "outputs": [],
   "source": []
  },
  {
   "cell_type": "code",
   "execution_count": 16,
   "id": "d7555b5f",
   "metadata": {},
   "outputs": [
    {
     "data": {
      "text/plain": [
       "-919894.9499999998"
      ]
     },
     "execution_count": 16,
     "metadata": {},
     "output_type": "execute_result"
    }
   ],
   "source": [
    "# Calculate the total discount\n",
    "\n",
    "transactions.loc[:, \"total_discount\"].sum()"
   ]
  },
  {
   "cell_type": "code",
   "execution_count": null,
   "id": "0f697912",
   "metadata": {},
   "outputs": [],
   "source": []
  },
  {
   "cell_type": "code",
   "execution_count": 18,
   "id": "deb9e1c8",
   "metadata": {},
   "outputs": [
    {
     "data": {
      "text/plain": [
       "-0.13941669966584644"
      ]
     },
     "execution_count": 18,
     "metadata": {},
     "output_type": "execute_result"
    }
   ],
   "source": [
    "# Calculate the overall discount percentage\n",
    "\n",
    "transactions.loc[:, \"total_discount\"].sum() / transactions.loc[:, \"SALES_VALUE\"].sum()\n",
    "\n",
    "# This shows that the business had a total of about 14 percent discount across all sales"
   ]
  },
  {
   "cell_type": "code",
   "execution_count": null,
   "id": "55df24ee",
   "metadata": {},
   "outputs": [],
   "source": []
  },
  {
   "cell_type": "code",
   "execution_count": 19,
   "id": "154c5d67",
   "metadata": {},
   "outputs": [
    {
     "data": {
      "text/plain": [
       "216656184"
      ]
     },
     "execution_count": 19,
     "metadata": {},
     "output_type": "execute_result"
    }
   ],
   "source": [
    "# Total quantity sold\n",
    "\n",
    "transactions.loc[:, \"QUANTITY\"].sum()\n",
    "\n",
    "#  Relative to the total sales of about $6.6 million, a total quantity sold of about $2.1 million \n",
    "# indicates that the stores basically sells small or rather cheap items"
   ]
  },
  {
   "cell_type": "code",
   "execution_count": null,
   "id": "cad6a56e",
   "metadata": {},
   "outputs": [],
   "source": []
  },
  {
   "cell_type": "code",
   "execution_count": 20,
   "id": "d44fcd05",
   "metadata": {},
   "outputs": [
    {
     "data": {
      "text/plain": [
       "89638"
      ]
     },
     "execution_count": 20,
     "metadata": {},
     "output_type": "execute_result"
    }
   ],
   "source": [
    "# Maximum quantity sold in a single row\n",
    "\n",
    "transactions.loc[:, \"QUANTITY\"].max()\n",
    "\n",
    "#  To sell a wooping 89638 pieces of some products in a single row further ascrtain the fact that the \n",
    "# retailer majorly deals in cheap items"
   ]
  },
  {
   "cell_type": "code",
   "execution_count": null,
   "id": "99be056a",
   "metadata": {},
   "outputs": [],
   "source": []
  },
  {
   "cell_type": "code",
   "execution_count": 24,
   "id": "19625bd3",
   "metadata": {
    "scrolled": true
   },
   "outputs": [
    {
     "data": {
      "text/plain": [
       "household_key     6.300000e+02\n",
       "BASKET_ID         3.474915e+10\n",
       "DAY               5.030000e+02\n",
       "PRODUCT_ID        6.534178e+06\n",
       "QUANTITY          8.963800e+04\n",
       "SALES_VALUE       2.500000e+02\n",
       "STORE_ID          3.840000e+02\n",
       "WEEK_NO           7.300000e+01\n",
       "total_discount   -1.345000e+01\n",
       "pct_discount      5.000000e-02\n",
       "Name: 1442095, dtype: float64"
      ]
     },
     "execution_count": 24,
     "metadata": {},
     "output_type": "execute_result"
    }
   ],
   "source": [
    "# Inspect the row with the highest quantity further to know the percentage given on those items\n",
    "\n",
    "transactions.loc[transactions[\"QUANTITY\"].argmax()].round(2)\n"
   ]
  },
  {
   "cell_type": "markdown",
   "id": "2d04b9c0",
   "metadata": {},
   "source": [
    "The above shows that the row with the highest quantity sold had a total of about $13 disount, and a percentage discount \n",
    "of 5% which is lesser than our overall percent discount.\n",
    "This is good business strategy as the retailer did not place too much discount on the most sort after product.  "
   ]
  },
  {
   "cell_type": "code",
   "execution_count": null,
   "id": "45f6d3f1",
   "metadata": {},
   "outputs": [],
   "source": []
  },
  {
   "cell_type": "code",
   "execution_count": 26,
   "id": "fe2f4fdf",
   "metadata": {},
   "outputs": [
    {
     "data": {
      "text/plain": [
       "28.458538334799798"
      ]
     },
     "execution_count": 26,
     "metadata": {},
     "output_type": "execute_result"
    }
   ],
   "source": [
    "# THE TOTAL VALUE SALES PER BASKET\n",
    "\n",
    "transactions[\"SALES_VALUE\"].sum() / transactions[\"BASKET_ID\"].nunique()\n",
    "\n",
    "# At $28.5 sales per basket, this means their are loyal customers who visit the store frequently and that is a plus"
   ]
  },
  {
   "cell_type": "code",
   "execution_count": null,
   "id": "c5b400aa",
   "metadata": {},
   "outputs": [],
   "source": []
  },
  {
   "cell_type": "code",
   "execution_count": 27,
   "id": "dce7d16d",
   "metadata": {},
   "outputs": [
    {
     "data": {
      "text/plain": [
       "3143.482148642212"
      ]
     },
     "execution_count": 27,
     "metadata": {},
     "output_type": "execute_result"
    }
   ],
   "source": [
    "# TOTAL SALES PER HOUSEHOLD\n",
    "\n",
    "transactions[\"SALES_VALUE\"].sum() / transactions[\"household_key\"].nunique()"
   ]
  },
  {
   "cell_type": "markdown",
   "id": "ea6667fe",
   "metadata": {},
   "source": [
    "At a little over $3000 sales per household, it means the hosueholds keeps on coming back to the stores \n",
    "to buy items racking up to the total sales calculated earlier. Loyal customers are good for business"
   ]
  },
  {
   "cell_type": "code",
   "execution_count": null,
   "id": "6c295ba3",
   "metadata": {},
   "outputs": [],
   "source": []
  },
  {
   "cell_type": "code",
   "execution_count": null,
   "id": "9b5d1581",
   "metadata": {},
   "outputs": [],
   "source": []
  },
  {
   "cell_type": "code",
   "execution_count": null,
   "id": "3199cb5f",
   "metadata": {},
   "outputs": [],
   "source": []
  },
  {
   "cell_type": "markdown",
   "id": "a3e69a4a",
   "metadata": {},
   "source": [
    "## HOUSEHOLD ANALYSIS AND VISUALIZATION\n"
   ]
  },
  {
   "cell_type": "markdown",
   "id": "b21a7e98",
   "metadata": {},
   "source": [
    "In this section of the project, visulization of our results will be done to give better understanding of the business data.\n",
    "\n",
    "I will:\n",
    "\n",
    "1. Plot the distribution of total sales value purchased at the household level.\n",
    "2. Determine the top 10 households by quantity purchased.\n",
    "3. Determine the top 10 households by sales value.\n",
    "4. Plot the total sales value for our top 10 households by value, ordered from highest to lowest."
   ]
  },
  {
   "cell_type": "code",
   "execution_count": null,
   "id": "5377292a",
   "metadata": {},
   "outputs": [],
   "source": []
  },
  {
   "cell_type": "code",
   "execution_count": 29,
   "id": "b5a8a2a3",
   "metadata": {},
   "outputs": [
    {
     "data": {
      "image/png": "[encoded data removed]",
      "text/plain": [
       "<Figure size 640x480 with 1 Axes>"
      ]
     },
     "metadata": {},
     "output_type": "display_data"
    }
   ],
   "source": [
    "# Plot the distribution of total sales value across households\n",
    "\n",
    "(transactions\n",
    " .groupby(\"household_key\")\n",
    " .agg({\"SALES_VALUE\": \"sum\"})\n",
    ").plot.hist(title= \"TOTAL SALES ACROSS HOUSEHOLD\");"
   ]
  },
  {
   "cell_type": "raw",
   "id": "f76a2e85",
   "metadata": {},
   "source": [
    "From the distributon we could see that the sales per household are mostly around $2k to $5k averaging just over $3k, but its also worthy of note that there are households purchasing around $10k worth of products and even a small percentage with sales of up to $20k which is quite impressive considering our sales per household is ~$3k"
   ]
  },
  {
   "cell_type": "code",
   "execution_count": null,
   "id": "0ffbb7bf",
   "metadata": {},
   "outputs": [],
   "source": []
  },
  {
   "cell_type": "code",
   "execution_count": null,
   "id": "cd8dcf89",
   "metadata": {},
   "outputs": [],
   "source": []
  },
  {
   "cell_type": "code",
   "execution_count": 31,
   "id": "ca6cd3ec",
   "metadata": {},
   "outputs": [
    {
     "data": {
      "text/html": [
       "<div>\n",
       "<style scoped>\n",
       "    .dataframe tbody tr th:only-of-type {\n",
       "        vertical-align: middle;\n",
       "    }\n",
       "\n",
       "    .dataframe tbody tr th {\n",
       "        vertical-align: top;\n",
       "    }\n",
       "\n",
       "    .dataframe thead th {\n",
       "        text-align: right;\n",
       "    }\n",
       "</style>\n",
       "<table border=\"1\" class=\"dataframe\">\n",
       "  <thead>\n",
       "    <tr style=\"text-align: right;\">\n",
       "      <th></th>\n",
       "      <th>QUANTITY</th>\n",
       "    </tr>\n",
       "    <tr>\n",
       "      <th>household_key</th>\n",
       "      <th></th>\n",
       "    </tr>\n",
       "  </thead>\n",
       "  <tbody>\n",
       "    <tr>\n",
       "      <th>1023</th>\n",
       "      <td>4479886</td>\n",
       "    </tr>\n",
       "    <tr>\n",
       "      <th>755</th>\n",
       "      <td>3141759</td>\n",
       "    </tr>\n",
       "    <tr>\n",
       "      <th>1609</th>\n",
       "      <td>2146647</td>\n",
       "    </tr>\n",
       "    <tr>\n",
       "      <th>13</th>\n",
       "      <td>1863752</td>\n",
       "    </tr>\n",
       "    <tr>\n",
       "      <th>1430</th>\n",
       "      <td>1741739</td>\n",
       "    </tr>\n",
       "    <tr>\n",
       "      <th>1527</th>\n",
       "      <td>1705382</td>\n",
       "    </tr>\n",
       "    <tr>\n",
       "      <th>1762</th>\n",
       "      <td>1669645</td>\n",
       "    </tr>\n",
       "    <tr>\n",
       "      <th>707</th>\n",
       "      <td>1640080</td>\n",
       "    </tr>\n",
       "    <tr>\n",
       "      <th>1029</th>\n",
       "      <td>1496155</td>\n",
       "    </tr>\n",
       "    <tr>\n",
       "      <th>1314</th>\n",
       "      <td>1492819</td>\n",
       "    </tr>\n",
       "  </tbody>\n",
       "</table>\n",
       "</div>"
      ],
      "text/plain": [
       "               QUANTITY\n",
       "household_key          \n",
       "1023            4479886\n",
       "755             3141759\n",
       "1609            2146647\n",
       "13              1863752\n",
       "1430            1741739\n",
       "1527            1705382\n",
       "1762            1669645\n",
       "707             1640080\n",
       "1029            1496155\n",
       "1314            1492819"
      ]
     },
     "execution_count": 31,
     "metadata": {},
     "output_type": "execute_result"
    }
   ],
   "source": [
    "# THESE ARE THE TOP TEN (10) HOUSEHOLD BY QUANTITY PURCHASED FROM HIGHEST TO LOWEST\n",
    "\n",
    "top10_hh_by_qty = (transactions\n",
    " .groupby(\"household_key\")\n",
    " .agg({\"QUANTITY\": \"sum\"})\n",
    " .sort_values(by=\"QUANTITY\", ascending=False)\n",
    " .iloc[:10]\n",
    ")\n",
    "\n",
    "top10_hh_by_qty"
   ]
  },
  {
   "cell_type": "code",
   "execution_count": null,
   "id": "626634bf",
   "metadata": {},
   "outputs": [],
   "source": []
  },
  {
   "cell_type": "code",
   "execution_count": 33,
   "id": "112936cd",
   "metadata": {},
   "outputs": [
    {
     "data": {
      "text/html": [
       "<div>\n",
       "<style scoped>\n",
       "    .dataframe tbody tr th:only-of-type {\n",
       "        vertical-align: middle;\n",
       "    }\n",
       "\n",
       "    .dataframe tbody tr th {\n",
       "        vertical-align: top;\n",
       "    }\n",
       "\n",
       "    .dataframe thead th {\n",
       "        text-align: right;\n",
       "    }\n",
       "</style>\n",
       "<table border=\"1\" class=\"dataframe\">\n",
       "  <thead>\n",
       "    <tr style=\"text-align: right;\">\n",
       "      <th></th>\n",
       "      <th>SALES_VALUE</th>\n",
       "    </tr>\n",
       "    <tr>\n",
       "      <th>household_key</th>\n",
       "      <th></th>\n",
       "    </tr>\n",
       "  </thead>\n",
       "  <tbody>\n",
       "    <tr>\n",
       "      <th>1</th>\n",
       "      <td>68362.53</td>\n",
       "    </tr>\n",
       "    <tr>\n",
       "      <th>1023</th>\n",
       "      <td>38254.92</td>\n",
       "    </tr>\n",
       "    <tr>\n",
       "      <th>1609</th>\n",
       "      <td>27752.62</td>\n",
       "    </tr>\n",
       "    <tr>\n",
       "      <th>1453</th>\n",
       "      <td>21402.13</td>\n",
       "    </tr>\n",
       "    <tr>\n",
       "      <th>1430</th>\n",
       "      <td>20190.53</td>\n",
       "    </tr>\n",
       "    <tr>\n",
       "      <th>707</th>\n",
       "      <td>19002.36</td>\n",
       "    </tr>\n",
       "    <tr>\n",
       "      <th>982</th>\n",
       "      <td>18629.38</td>\n",
       "    </tr>\n",
       "    <tr>\n",
       "      <th>718</th>\n",
       "      <td>18588.10</td>\n",
       "    </tr>\n",
       "    <tr>\n",
       "      <th>1111</th>\n",
       "      <td>18558.54</td>\n",
       "    </tr>\n",
       "    <tr>\n",
       "      <th>1653</th>\n",
       "      <td>18493.74</td>\n",
       "    </tr>\n",
       "  </tbody>\n",
       "</table>\n",
       "</div>"
      ],
      "text/plain": [
       "               SALES_VALUE\n",
       "household_key             \n",
       "1                 68362.53\n",
       "1023              38254.92\n",
       "1609              27752.62\n",
       "1453              21402.13\n",
       "1430              20190.53\n",
       "707               19002.36\n",
       "982               18629.38\n",
       "718               18588.10\n",
       "1111              18558.54\n",
       "1653              18493.74"
      ]
     },
     "execution_count": 33,
     "metadata": {},
     "output_type": "execute_result"
    }
   ],
   "source": [
    "# THE TOP TEN (10) HOUSEHOLDS BY SALES VALUE\n",
    "\n",
    "top10_hh_by_sales = (transactions\n",
    " .groupby(\"household_key\")\n",
    " .agg({\"SALES_VALUE\": \"sum\"})\n",
    " .sort_values(by=\"SALES_VALUE\", ascending=False)\n",
    " .iloc[:10]\n",
    ")\n",
    "\n",
    "top10_hh_by_sales"
   ]
  },
  {
   "cell_type": "markdown",
   "id": "908f2ea7",
   "metadata": {},
   "source": [
    "It is seen that some household in the top 10 Households for Quantity Purchased is also in the Top 10 Household for Sales Value.\n",
    "This shows that the households that bought the most items are key contributors to our sales revenue"
   ]
  },
  {
   "cell_type": "code",
   "execution_count": null,
   "id": "6c8b2a9a",
   "metadata": {},
   "outputs": [],
   "source": []
  },
  {
   "cell_type": "code",
   "execution_count": 39,
   "id": "c6b951fb",
   "metadata": {},
   "outputs": [
    {
     "data": {
      "image/png": "[encoded data removed]",
      "text/plain": [
       "<Figure size 640x480 with 1 Axes>"
      ]
     },
     "metadata": {},
     "output_type": "display_data"
    }
   ],
   "source": [
    "# Plot the total sales value for the top 10 households by value, ordered from highest to lowest.\n",
    "\n",
    "top10_hh_by_sales.plot.bar(title=\"Top 10 Households by Sales\", ylabel=\"Sales Value (USD)\");"
   ]
  },
  {
   "cell_type": "code",
   "execution_count": null,
   "id": "e7d2d11d",
   "metadata": {},
   "outputs": [],
   "source": []
  },
  {
   "cell_type": "code",
   "execution_count": null,
   "id": "06016c04",
   "metadata": {},
   "outputs": [],
   "source": []
  },
  {
   "cell_type": "code",
   "execution_count": null,
   "id": "73328cc7",
   "metadata": {},
   "outputs": [],
   "source": []
  },
  {
   "cell_type": "markdown",
   "id": "51c28ce7",
   "metadata": {},
   "source": [
    "## PRODUCT ANALYSIS"
   ]
  },
  {
   "cell_type": "markdown",
   "id": "60e3b889",
   "metadata": {},
   "source": [
    "For the last section of this phase of project, I am going to perform analysis on our products data set.\n",
    "I will be looking to make comaprisons between the various results from the transactions data sets and compare them to the \n",
    "products data set to get complete details about the best performing products.\n",
    "\n",
    "I am going to perform the following analysis:\n",
    "\n",
    "1. Determine the products that had the most sales by sales_value and plot a horizontal bar chart.\n",
    "2. Check whether or not the top 10 selling items have a higher than average discount rate.\n",
    "3. Find the most common PRODUCT_ID among rows with the households in our top 10 households by sales value.\n",
    "4. Look up the names of the top 10 products by sales in the products.csv dataset.\n",
    "5. Look up the product name of the item that had the highest quantity sold in a single row."
   ]
  },
  {
   "cell_type": "code",
   "execution_count": null,
   "id": "ba1f6710",
   "metadata": {},
   "outputs": [],
   "source": []
  },
  {
   "cell_type": "code",
   "execution_count": 41,
   "id": "7e74b756",
   "metadata": {},
   "outputs": [
    {
     "data": {
      "text/html": [
       "<div>\n",
       "<style scoped>\n",
       "    .dataframe tbody tr th:only-of-type {\n",
       "        vertical-align: middle;\n",
       "    }\n",
       "\n",
       "    .dataframe tbody tr th {\n",
       "        vertical-align: top;\n",
       "    }\n",
       "\n",
       "    .dataframe thead th {\n",
       "        text-align: right;\n",
       "    }\n",
       "</style>\n",
       "<table border=\"1\" class=\"dataframe\">\n",
       "  <thead>\n",
       "    <tr style=\"text-align: right;\">\n",
       "      <th></th>\n",
       "      <th>SALES_VALUE</th>\n",
       "    </tr>\n",
       "    <tr>\n",
       "      <th>PRODUCT_ID</th>\n",
       "      <th></th>\n",
       "    </tr>\n",
       "  </thead>\n",
       "  <tbody>\n",
       "    <tr>\n",
       "      <th>6534178</th>\n",
       "      <td>420088.11</td>\n",
       "    </tr>\n",
       "    <tr>\n",
       "      <th>1</th>\n",
       "      <td>64095.00</td>\n",
       "    </tr>\n",
       "    <tr>\n",
       "      <th>6533889</th>\n",
       "      <td>42339.31</td>\n",
       "    </tr>\n",
       "    <tr>\n",
       "      <th>1029743</th>\n",
       "      <td>33879.06</td>\n",
       "    </tr>\n",
       "    <tr>\n",
       "      <th>1082185</th>\n",
       "      <td>24140.83</td>\n",
       "    </tr>\n",
       "    <tr>\n",
       "      <th>6533765</th>\n",
       "      <td>23831.14</td>\n",
       "    </tr>\n",
       "    <tr>\n",
       "      <th>6534166</th>\n",
       "      <td>23755.70</td>\n",
       "    </tr>\n",
       "    <tr>\n",
       "      <th>1106523</th>\n",
       "      <td>22922.80</td>\n",
       "    </tr>\n",
       "    <tr>\n",
       "      <th>995242</th>\n",
       "      <td>21221.49</td>\n",
       "    </tr>\n",
       "    <tr>\n",
       "      <th>5569230</th>\n",
       "      <td>18305.92</td>\n",
       "    </tr>\n",
       "  </tbody>\n",
       "</table>\n",
       "</div>"
      ],
      "text/plain": [
       "            SALES_VALUE\n",
       "PRODUCT_ID             \n",
       "6534178       420088.11\n",
       "1              64095.00\n",
       "6533889        42339.31\n",
       "1029743        33879.06\n",
       "1082185        24140.83\n",
       "6533765        23831.14\n",
       "6534166        23755.70\n",
       "1106523        22922.80\n",
       "995242         21221.49\n",
       "5569230        18305.92"
      ]
     },
     "execution_count": 41,
     "metadata": {},
     "output_type": "execute_result"
    }
   ],
   "source": [
    "# Products with the most sales value\n",
    "\n",
    "top10_pd_by_sales = (transactions\n",
    "                     .groupby(\"PRODUCT_ID\")\n",
    "                     .agg({\"SALES_VALUE\": \"sum\"})\n",
    "                     .sort_values(by=\"SALES_VALUE\", ascending=False)\n",
    "                     .iloc[:10]\n",
    ")\n",
    "\n",
    "top10_pd_by_sales"
   ]
  },
  {
   "cell_type": "code",
   "execution_count": null,
   "id": "dbd43cab",
   "metadata": {},
   "outputs": [],
   "source": []
  },
  {
   "cell_type": "code",
   "execution_count": 43,
   "id": "3371ab06",
   "metadata": {},
   "outputs": [
    {
     "data": {
      "image/png": "[encoded data removed]",
      "text/plain": [
       "<Figure size 640x480 with 1 Axes>"
      ]
     },
     "metadata": {},
     "output_type": "display_data"
    }
   ],
   "source": [
    "# Plot a horizontal bar chart of the top10 products by sales\n",
    "\n",
    "top10_pd_by_sales.sort_values(\"SALES_VALUE\").plot.barh(title = \"TOP 10 Products by Sales\");\n",
    "\n",
    "# The below horizontal bar chart shows that the product with PRODUCT_ID 6534178 had the most sales value \n",
    "#  and also shows other good performing products making up the top 10 products by sales value"
   ]
  },
  {
   "cell_type": "code",
   "execution_count": null,
   "id": "9c288d41",
   "metadata": {},
   "outputs": [],
   "source": []
  },
  {
   "cell_type": "code",
   "execution_count": 46,
   "id": "92ab5580",
   "metadata": {},
   "outputs": [
    {
     "data": {
      "text/plain": [
       "0.03197957106010176"
      ]
     },
     "execution_count": 46,
     "metadata": {},
     "output_type": "execute_result"
    }
   ],
   "source": [
    "# The discount rate of the top 10 products by sales\n",
    "\n",
    "(transactions.query(\"PRODUCT_ID in @top10_pd_by_sales.index\").loc[:, \"total_discount\"].sum()/\n",
    " transactions.query(\"PRODUCT_ID in @top10_pd_by_sales.index\").loc[:, \"SALES_VALUE\"].sum()\n",
    ")\n",
    "\n",
    "# The top 10 products have a total discount rate of about 3.2%"
   ]
  },
  {
   "cell_type": "code",
   "execution_count": null,
   "id": "5209ae42",
   "metadata": {},
   "outputs": [],
   "source": []
  },
  {
   "cell_type": "code",
   "execution_count": 47,
   "id": "b4d3a17b",
   "metadata": {},
   "outputs": [
    {
     "data": {
      "text/plain": [
       "-0.13941669966584644"
      ]
     },
     "execution_count": 47,
     "metadata": {},
     "output_type": "execute_result"
    }
   ],
   "source": [
    "# discount rate of all products\n",
    "\n",
    "(transactions.loc[:, \"total_discount\"].sum()/\n",
    " transactions.loc[:, \"SALES_VALUE\"].sum()\n",
    ")\n",
    "\n",
    "# The discount rate of all the products is about 14%"
   ]
  },
  {
   "cell_type": "markdown",
   "id": "fb5674ea",
   "metadata": {},
   "source": [
    "A discount rate of 3.2% for the top 10 products by sales compared to a total discount rate of 14% for all products indicates a very good business strategy is in place and the retailer does not really need to over discount the most sort after products in order to make good sales.\n",
    "\n",
    "This is a big consideration in acquiring any retail store, and this target retailer will be a good acquisition."
   ]
  },
  {
   "cell_type": "code",
   "execution_count": null,
   "id": "1223d284",
   "metadata": {},
   "outputs": [],
   "source": []
  },
  {
   "cell_type": "code",
   "execution_count": 52,
   "id": "b12b2469",
   "metadata": {},
   "outputs": [
    {
     "data": {
      "text/html": [
       "<div>\n",
       "<style scoped>\n",
       "    .dataframe tbody tr th:only-of-type {\n",
       "        vertical-align: middle;\n",
       "    }\n",
       "\n",
       "    .dataframe tbody tr th {\n",
       "        vertical-align: top;\n",
       "    }\n",
       "\n",
       "    .dataframe thead th {\n",
       "        text-align: right;\n",
       "    }\n",
       "</style>\n",
       "<table border=\"1\" class=\"dataframe\">\n",
       "  <thead>\n",
       "    <tr style=\"text-align: right;\">\n",
       "      <th></th>\n",
       "      <th>PRODUCT_ID</th>\n",
       "      <th>MANUFACTURER</th>\n",
       "      <th>DEPARTMENT</th>\n",
       "      <th>BRAND</th>\n",
       "      <th>COMMODITY_DESC</th>\n",
       "      <th>SUB_COMMODITY_DESC</th>\n",
       "      <th>CURR_SIZE_OF_PRODUCT</th>\n",
       "    </tr>\n",
       "  </thead>\n",
       "  <tbody>\n",
       "    <tr>\n",
       "      <th>0</th>\n",
       "      <td>25671</td>\n",
       "      <td>2</td>\n",
       "      <td>GROCERY</td>\n",
       "      <td>National</td>\n",
       "      <td>FRZN ICE</td>\n",
       "      <td>ICE - CRUSHED/CUBED</td>\n",
       "      <td>22 LB</td>\n",
       "    </tr>\n",
       "    <tr>\n",
       "      <th>1</th>\n",
       "      <td>26081</td>\n",
       "      <td>2</td>\n",
       "      <td>MISC. TRANS.</td>\n",
       "      <td>National</td>\n",
       "      <td>NO COMMODITY DESCRIPTION</td>\n",
       "      <td>NO SUBCOMMODITY DESCRIPTION</td>\n",
       "      <td></td>\n",
       "    </tr>\n",
       "    <tr>\n",
       "      <th>2</th>\n",
       "      <td>26093</td>\n",
       "      <td>69</td>\n",
       "      <td>PASTRY</td>\n",
       "      <td>Private</td>\n",
       "      <td>BREAD</td>\n",
       "      <td>BREAD:ITALIAN/FRENCH</td>\n",
       "      <td></td>\n",
       "    </tr>\n",
       "    <tr>\n",
       "      <th>3</th>\n",
       "      <td>26190</td>\n",
       "      <td>69</td>\n",
       "      <td>GROCERY</td>\n",
       "      <td>Private</td>\n",
       "      <td>FRUIT - SHELF STABLE</td>\n",
       "      <td>APPLE SAUCE</td>\n",
       "      <td>50 OZ</td>\n",
       "    </tr>\n",
       "    <tr>\n",
       "      <th>4</th>\n",
       "      <td>26355</td>\n",
       "      <td>69</td>\n",
       "      <td>GROCERY</td>\n",
       "      <td>Private</td>\n",
       "      <td>COOKIES/CONES</td>\n",
       "      <td>SPECIALTY COOKIES</td>\n",
       "      <td>14 OZ</td>\n",
       "    </tr>\n",
       "  </tbody>\n",
       "</table>\n",
       "</div>"
      ],
      "text/plain": [
       "   PRODUCT_ID  MANUFACTURER    DEPARTMENT     BRAND            COMMODITY_DESC  \\\n",
       "0       25671             2       GROCERY  National                  FRZN ICE   \n",
       "1       26081             2  MISC. TRANS.  National  NO COMMODITY DESCRIPTION   \n",
       "2       26093            69        PASTRY   Private                     BREAD   \n",
       "3       26190            69       GROCERY   Private      FRUIT - SHELF STABLE   \n",
       "4       26355            69       GROCERY   Private             COOKIES/CONES   \n",
       "\n",
       "            SUB_COMMODITY_DESC CURR_SIZE_OF_PRODUCT  \n",
       "0          ICE - CRUSHED/CUBED                22 LB  \n",
       "1  NO SUBCOMMODITY DESCRIPTION                       \n",
       "2         BREAD:ITALIAN/FRENCH                       \n",
       "3                  APPLE SAUCE                50 OZ  \n",
       "4            SPECIALTY COOKIES                14 OZ  "
      ]
     },
     "execution_count": 52,
     "metadata": {},
     "output_type": "execute_result"
    }
   ],
   "source": [
    "# To get the most common product_id among the top 10 households by sales value, I'll first:\n",
    "# Read in the products data set and then,\n",
    "# match the corresponding product_id in the products dataframe to that of the top 10 hosehold by sales\n",
    "\n",
    "products = pd.read_csv(\n",
    "    \"C:\\\\ORIGINAL PFDA RESOURCES\\\\Pandas+Course+Resources\\\\Pandas Course Resources\\\\project_data\\\\product.csv\"\n",
    ")\n",
    "\n",
    "products.head()"
   ]
  },
  {
   "cell_type": "code",
   "execution_count": null,
   "id": "a22f55be",
   "metadata": {},
   "outputs": [],
   "source": []
  },
  {
   "cell_type": "code",
   "execution_count": 53,
   "id": "a572db2c",
   "metadata": {},
   "outputs": [
    {
     "data": {
      "text/html": [
       "<div>\n",
       "<style scoped>\n",
       "    .dataframe tbody tr th:only-of-type {\n",
       "        vertical-align: middle;\n",
       "    }\n",
       "\n",
       "    .dataframe tbody tr th {\n",
       "        vertical-align: top;\n",
       "    }\n",
       "\n",
       "    .dataframe thead th {\n",
       "        text-align: right;\n",
       "    }\n",
       "</style>\n",
       "<table border=\"1\" class=\"dataframe\">\n",
       "  <thead>\n",
       "    <tr style=\"text-align: right;\">\n",
       "      <th></th>\n",
       "      <th>SALES_VALUE</th>\n",
       "    </tr>\n",
       "    <tr>\n",
       "      <th>household_key</th>\n",
       "      <th></th>\n",
       "    </tr>\n",
       "  </thead>\n",
       "  <tbody>\n",
       "    <tr>\n",
       "      <th>1</th>\n",
       "      <td>68362.53</td>\n",
       "    </tr>\n",
       "    <tr>\n",
       "      <th>1023</th>\n",
       "      <td>38254.92</td>\n",
       "    </tr>\n",
       "    <tr>\n",
       "      <th>1609</th>\n",
       "      <td>27752.62</td>\n",
       "    </tr>\n",
       "    <tr>\n",
       "      <th>1453</th>\n",
       "      <td>21402.13</td>\n",
       "    </tr>\n",
       "    <tr>\n",
       "      <th>1430</th>\n",
       "      <td>20190.53</td>\n",
       "    </tr>\n",
       "    <tr>\n",
       "      <th>707</th>\n",
       "      <td>19002.36</td>\n",
       "    </tr>\n",
       "    <tr>\n",
       "      <th>982</th>\n",
       "      <td>18629.38</td>\n",
       "    </tr>\n",
       "    <tr>\n",
       "      <th>718</th>\n",
       "      <td>18588.10</td>\n",
       "    </tr>\n",
       "    <tr>\n",
       "      <th>1111</th>\n",
       "      <td>18558.54</td>\n",
       "    </tr>\n",
       "    <tr>\n",
       "      <th>1653</th>\n",
       "      <td>18493.74</td>\n",
       "    </tr>\n",
       "  </tbody>\n",
       "</table>\n",
       "</div>"
      ],
      "text/plain": [
       "               SALES_VALUE\n",
       "household_key             \n",
       "1                 68362.53\n",
       "1023              38254.92\n",
       "1609              27752.62\n",
       "1453              21402.13\n",
       "1430              20190.53\n",
       "707               19002.36\n",
       "982               18629.38\n",
       "718               18588.10\n",
       "1111              18558.54\n",
       "1653              18493.74"
      ]
     },
     "execution_count": 53,
     "metadata": {},
     "output_type": "execute_result"
    }
   ],
   "source": [
    "# PRODUCT_ID of the top 10 hosuehold by sales\n",
    "\n",
    "top10_hh_by_sales"
   ]
  },
  {
   "cell_type": "code",
   "execution_count": null,
   "id": "f991cc18",
   "metadata": {},
   "outputs": [],
   "source": []
  },
  {
   "cell_type": "code",
   "execution_count": 67,
   "id": "c546a8a4",
   "metadata": {},
   "outputs": [
    {
     "data": {
      "text/plain": [
       "Int64Index([      1, 6534178, 1082185, 1029743, 6533889, 1127831,  951590,\n",
       "             995242, 1106523, 9677202],\n",
       "           dtype='int64')"
      ]
     },
     "execution_count": 67,
     "metadata": {},
     "output_type": "execute_result"
    }
   ],
   "source": [
    "# get the product_id of the top 10 households by sales \n",
    "\n",
    "top10_hh_by_sales_product_id = (transactions\n",
    " .query(\"household_key in @top10_hh_by_sales.index\")\n",
    " .loc[:, \"PRODUCT_ID\"]\n",
    " .value_counts()\n",
    " .iloc[:10]\n",
    " .index                             \n",
    ")\n",
    "\n",
    "# This is the index of the top 10 product_id of the top 10 household relative to the household_key\n",
    "\n",
    "top10_hh_by_sales_product_id"
   ]
  },
  {
   "cell_type": "code",
   "execution_count": 72,
   "id": "b56dd8db",
   "metadata": {},
   "outputs": [
    {
     "data": {
      "text/plain": [
       "951590     1\n",
       "995242     1\n",
       "1029743    1\n",
       "1082185    1\n",
       "1106523    1\n",
       "1127831    1\n",
       "6533889    1\n",
       "6534178    1\n",
       "9677202    1\n",
       "Name: PRODUCT_ID, dtype: int64"
      ]
     },
     "execution_count": 72,
     "metadata": {},
     "output_type": "execute_result"
    }
   ],
   "source": [
    "# query the products table to match the product_id and hence determine the most common product_id\n",
    "\n",
    "products.query(\"PRODUCT_ID in @top10_hh_by_sales_product_id\").loc[:, \"PRODUCT_ID\"].value_counts()\n",
    "\n",
    "#  All product_id are unique and only appears once"
   ]
  },
  {
   "cell_type": "code",
   "execution_count": null,
   "id": "724177bd",
   "metadata": {},
   "outputs": [],
   "source": []
  },
  {
   "cell_type": "code",
   "execution_count": null,
   "id": "01bc0327",
   "metadata": {},
   "outputs": [],
   "source": []
  },
  {
   "cell_type": "code",
   "execution_count": 75,
   "id": "f477c3b6",
   "metadata": {},
   "outputs": [
    {
     "data": {
      "text/html": [
       "<div>\n",
       "<style scoped>\n",
       "    .dataframe tbody tr th:only-of-type {\n",
       "        vertical-align: middle;\n",
       "    }\n",
       "\n",
       "    .dataframe tbody tr th {\n",
       "        vertical-align: top;\n",
       "    }\n",
       "\n",
       "    .dataframe thead th {\n",
       "        text-align: right;\n",
       "    }\n",
       "</style>\n",
       "<table border=\"1\" class=\"dataframe\">\n",
       "  <thead>\n",
       "    <tr style=\"text-align: right;\">\n",
       "      <th></th>\n",
       "      <th>COMMODITY_DESC</th>\n",
       "      <th>SUB_COMMODITY_DESC</th>\n",
       "    </tr>\n",
       "  </thead>\n",
       "  <tbody>\n",
       "    <tr>\n",
       "      <th>25754</th>\n",
       "      <td>FLUID MILK PRODUCTS</td>\n",
       "      <td>FLUID MILK WHITE ONLY</td>\n",
       "    </tr>\n",
       "    <tr>\n",
       "      <th>29657</th>\n",
       "      <td>FLUID MILK PRODUCTS</td>\n",
       "      <td>FLUID MILK WHITE ONLY</td>\n",
       "    </tr>\n",
       "    <tr>\n",
       "      <th>35576</th>\n",
       "      <td>TROPICAL FRUIT</td>\n",
       "      <td>BANANAS</td>\n",
       "    </tr>\n",
       "    <tr>\n",
       "      <th>38262</th>\n",
       "      <td>FLUID MILK PRODUCTS</td>\n",
       "      <td>FLUID MILK WHITE ONLY</td>\n",
       "    </tr>\n",
       "    <tr>\n",
       "      <th>53097</th>\n",
       "      <td>SOFT DRINKS</td>\n",
       "      <td>SOFT DRINKS 12/18&amp;15PK CAN CAR</td>\n",
       "    </tr>\n",
       "    <tr>\n",
       "      <th>57171</th>\n",
       "      <td>FUEL</td>\n",
       "      <td>GASOLINE-REG UNLEADED</td>\n",
       "    </tr>\n",
       "    <tr>\n",
       "      <th>57181</th>\n",
       "      <td>COUPON/MISC ITEMS</td>\n",
       "      <td>GASOLINE-REG UNLEADED</td>\n",
       "    </tr>\n",
       "    <tr>\n",
       "      <th>57216</th>\n",
       "      <td>COUPON/MISC ITEMS</td>\n",
       "      <td>GASOLINE-REG UNLEADED</td>\n",
       "    </tr>\n",
       "    <tr>\n",
       "      <th>57221</th>\n",
       "      <td>COUPON/MISC ITEMS</td>\n",
       "      <td>GASOLINE-REG UNLEADED</td>\n",
       "    </tr>\n",
       "  </tbody>\n",
       "</table>\n",
       "</div>"
      ],
      "text/plain": [
       "            COMMODITY_DESC              SUB_COMMODITY_DESC\n",
       "25754  FLUID MILK PRODUCTS           FLUID MILK WHITE ONLY\n",
       "29657  FLUID MILK PRODUCTS           FLUID MILK WHITE ONLY\n",
       "35576       TROPICAL FRUIT                         BANANAS\n",
       "38262  FLUID MILK PRODUCTS           FLUID MILK WHITE ONLY\n",
       "53097          SOFT DRINKS  SOFT DRINKS 12/18&15PK CAN CAR\n",
       "57171                 FUEL           GASOLINE-REG UNLEADED\n",
       "57181    COUPON/MISC ITEMS           GASOLINE-REG UNLEADED\n",
       "57216    COUPON/MISC ITEMS           GASOLINE-REG UNLEADED\n",
       "57221    COUPON/MISC ITEMS           GASOLINE-REG UNLEADED"
      ]
     },
     "execution_count": 75,
     "metadata": {},
     "output_type": "execute_result"
    }
   ],
   "source": [
    "# Look up the names of the top 10 products by sales in the products.csv dataset.\n",
    "\n",
    "products.query(\"PRODUCT_ID in @top10_pd_by_sales.index\").loc[:, [\"COMMODITY_DESC\", \"SUB_COMMODITY_DESC\"]]"
   ]
  },
  {
   "cell_type": "code",
   "execution_count": null,
   "id": "459f272d",
   "metadata": {},
   "outputs": [],
   "source": []
  },
  {
   "cell_type": "code",
   "execution_count": 76,
   "id": "3bfe697a",
   "metadata": {},
   "outputs": [
    {
     "data": {
      "text/html": [
       "<div>\n",
       "<style scoped>\n",
       "    .dataframe tbody tr th:only-of-type {\n",
       "        vertical-align: middle;\n",
       "    }\n",
       "\n",
       "    .dataframe tbody tr th {\n",
       "        vertical-align: top;\n",
       "    }\n",
       "\n",
       "    .dataframe thead th {\n",
       "        text-align: right;\n",
       "    }\n",
       "</style>\n",
       "<table border=\"1\" class=\"dataframe\">\n",
       "  <thead>\n",
       "    <tr style=\"text-align: right;\">\n",
       "      <th></th>\n",
       "      <th>PRODUCT_ID</th>\n",
       "      <th>MANUFACTURER</th>\n",
       "      <th>DEPARTMENT</th>\n",
       "      <th>BRAND</th>\n",
       "      <th>COMMODITY_DESC</th>\n",
       "      <th>SUB_COMMODITY_DESC</th>\n",
       "      <th>CURR_SIZE_OF_PRODUCT</th>\n",
       "    </tr>\n",
       "  </thead>\n",
       "  <tbody>\n",
       "    <tr>\n",
       "      <th>57221</th>\n",
       "      <td>6534178</td>\n",
       "      <td>69</td>\n",
       "      <td>KIOSK-GAS</td>\n",
       "      <td>Private</td>\n",
       "      <td>COUPON/MISC ITEMS</td>\n",
       "      <td>GASOLINE-REG UNLEADED</td>\n",
       "      <td></td>\n",
       "    </tr>\n",
       "  </tbody>\n",
       "</table>\n",
       "</div>"
      ],
      "text/plain": [
       "       PRODUCT_ID  MANUFACTURER DEPARTMENT    BRAND     COMMODITY_DESC  \\\n",
       "57221     6534178            69  KIOSK-GAS  Private  COUPON/MISC ITEMS   \n",
       "\n",
       "          SUB_COMMODITY_DESC CURR_SIZE_OF_PRODUCT  \n",
       "57221  GASOLINE-REG UNLEADED                       "
      ]
     },
     "execution_count": 76,
     "metadata": {},
     "output_type": "execute_result"
    }
   ],
   "source": [
    "# Look up the product name of the item that had the highest quantity sold in a single row.\n",
    "# The item with the most quantity sold has a PRODUCT_ID of 6534178\n",
    "\n",
    "products[products[\"PRODUCT_ID\"] == 6534178]"
   ]
  },
  {
   "cell_type": "code",
   "execution_count": null,
   "id": "13bca020",
   "metadata": {},
   "outputs": [],
   "source": []
  },
  {
   "cell_type": "code",
   "execution_count": null,
   "id": "769abc5b",
   "metadata": {},
   "outputs": [],
   "source": []
  },
  {
   "cell_type": "markdown",
   "id": "0ab36834",
   "metadata": {},
   "source": [
    "# CONCLUSION"
   ]
  },
  {
   "cell_type": "markdown",
   "id": "c5e8094f",
   "metadata": {},
   "source": [
    "In this phase one of the analysis of the target retailers data, I have been able to take a deep dive into \n",
    "the businesses data, answered important statistical question, illustrated sales of various sorts in charts \n",
    "and draw insights from the business data.\n",
    "\n",
    "The results of the analysis points to the fact that :\n",
    "\n",
    "1. The business has good sales relative to the number of household\n",
    "2. The top selling products are not even the most discounted, so there is a good discount strategy in place.\n",
    "\n",
    "In the second phase of our project, I will be looking into more data sets of the target retail, like the household demographic,\n",
    "this gives more insights about those purchasing their products, their age bracket and income range.\n",
    "This will further help our clients decide whether or not to go for the acquistiton."
   ]
  },
  {
   "cell_type": "code",
   "execution_count": null,
   "id": "03592045",
   "metadata": {},
   "outputs": [],
   "source": []
  },
  {
   "cell_type": "code",
   "execution_count": null,
   "id": "c5207bd9",
   "metadata": {},
   "outputs": [],
   "source": []
  },
  {
   "cell_type": "markdown",
   "id": "40241a9b",
   "metadata": {},
   "source": [
    "## RECOMMENDATION"
   ]
  },
  {
   "cell_type": "markdown",
   "id": "ac57f6ec",
   "metadata": {},
   "source": [
    "Based on this phase of analysis, It is abvious that the target retailer is doing business with the right strategy \n",
    "and acquiring them is a good decison, but I will need more analysis to further strengthen this decision \n",
    "and back up my claim from this phase of analysis in a phase two project."
   ]
  },
  {
   "cell_type": "code",
   "execution_count": null,
   "id": "4e64ed6a",
   "metadata": {},
   "outputs": [],
   "source": []
  }
 ],
 "metadata": {
  "kernelspec": {
   "display_name": "Python 3 (ipykernel)",
   "language": "python",
   "name": "python3"
  },
  "language_info": {
   "codemirror_mode": {
    "name": "ipython",
    "version": 3
   },
   "file_extension": ".py",
   "mimetype": "text/x-python",
   "name": "python",
   "nbconvert_exporter": "python",
   "pygments_lexer": "ipython3",
   "version": "3.11.4"
  }
 },
 "nbformat": 4,
 "nbformat_minor": 5
}
